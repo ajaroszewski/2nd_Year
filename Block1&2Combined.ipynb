{
 "cells": [
  {
   "cell_type": "code",
   "execution_count": 1,
   "metadata": {
    "collapsed": false
   },
   "outputs": [],
   "source": [
    "pth = '/Users/AJ/Desktop/data'\n",
    "#os.chdir(pth)"
   ]
  },
  {
   "cell_type": "code",
   "execution_count": 2,
   "metadata": {
    "collapsed": false
   },
   "outputs": [],
   "source": [
    "import os\n",
    "import pandas as pd\n",
    "import numpy as np\n",
    "import pylab\n",
    "import string\n",
    "import sys\n",
    "import statsmodels.api as sm\n",
    "from pandas import ExcelWriter\n",
    "import matplotlib.pyplot as plt\n",
    "from matplotlib import pylab\n",
    "from pylab import rcParams\n",
    "\n",
    "plt.rcParams['font.family'] = 'sans-serif'\n",
    "pylab.rcParams['figure.figsize'] = (10.0, 8.0)\n",
    "import matplotlib as mpl\n",
    "mpl.style.use('ggplot')\n",
    "\n",
    "# R\n",
    "#%load_ext rpy2.ipython\n",
    "#%R library(ez)\n",
    "#%R library(lme4)\n",
    "#%R library(lmerTest)\n",
    "#%R library(lsmeans)\n",
    "#%R library(mutoss)\n",
    "#%R library(MASS)\n",
    "#%R lsm.options(disable.pbkrtest=TRUE) \n",
    "\n",
    "%matplotlib inline\n",
    "\n",
    "from IPython.display import clear_output\n",
    "\n",
    "clear_output()"
   ]
  },
  {
   "cell_type": "code",
   "execution_count": 3,
   "metadata": {
    "collapsed": true
   },
   "outputs": [],
   "source": [
    "from numpy import array,log, zeros, sum, mean\n",
    "from scipy import stats \n",
    "#from mfit import *\n",
    "#from mfit_GNG_models import *\n",
    "from copy import deepcopy\n",
    "#from WSLS import *\n",
    "#from Plt_TrxTr_Acc import Plot_TrxTr_Acc"
   ]
  },
  {
   "cell_type": "code",
   "execution_count": 4,
   "metadata": {
    "collapsed": false
   },
   "outputs": [],
   "source": [
    "# group_dict = {2:1,3:1,4:2,5:2,6:2,7:1,8:2,9:2,10:1,11:1,12:1,13:1,15:2,16:2,17:2,18:1,19:2, 20:1,21:2, 22:2, \n",
    "#               23:2, 24:1,25:2, 26:1, 27:2,28:2,29:2,30:1,31:1,32:1,33:2,34:1,35:2, 36:2, 37:1}\n",
    "group_dict = {13:1,15:2,16:2,17:2,18:1,19:2, 20:1,21:2, 22:2, \n",
    "              23:2, 24:1,25:2, 26:1, 27:2,28:2,29:2,30:1,31:1,32:1,33:2,34:1,35:2,36:2, 37:1, 38:2, 39:2}"
   ]
  },
  {
   "cell_type": "code",
   "execution_count": 5,
   "metadata": {
    "collapsed": false
   },
   "outputs": [
    {
     "name": "stdout",
     "output_type": "stream",
     "text": [
      "{13: 1, 15: 2, 16: 2, 17: 2, 18: 1, 19: 2, 20: 1, 21: 2, 22: 2, 23: 2, 24: 1, 25: 2, 26: 1, 27: 2, 28: 2, 29: 2, 30: 1, 31: 1, 32: 1, 33: 2, 34: 1, 35: 2, 36: 2, 37: 1, 38: 2, 39: 2}\n"
     ]
    }
   ],
   "source": [
    "print(group_dict)"
   ]
  },
  {
   "cell_type": "code",
   "execution_count": 6,
   "metadata": {
    "collapsed": false
   },
   "outputs": [],
   "source": [
    "# Start loop to go through subjects \n",
    "subs = range(13,40)\n",
    "d=pd.DataFrame([])\n",
    "alldirfiles = os.listdir(pth)\n",
    "os.chdir(pth)"
   ]
  },
  {
   "cell_type": "code",
   "execution_count": 7,
   "metadata": {
    "collapsed": false
   },
   "outputs": [
    {
     "name": "stdout",
     "output_type": "stream",
     "text": [
      "(13, 15, 16, 17, 18, 19, 20, 21, 22, 23, 24, 25, 26, 27, 28, 29, 30, 31, 32, 33, 34, 35, 36, 37, 38, 39)\n"
     ]
    }
   ],
   "source": [
    "subs = (13,15,16,17,18,19,20,21,22,23,24,25,26,27,28,29,30,31,32,33,34,35, 36, 37, 38,39)\n",
    "print(subs)\n",
    "# subs = subs + range(15,27)\n",
    "# print(subs)"
   ]
  },
  {
   "cell_type": "code",
   "execution_count": 8,
   "metadata": {
    "collapsed": false
   },
   "outputs": [],
   "source": [
    "for n,sub in enumerate(subs):\n",
    "    #Grab data and make some adjustments\n",
    "    subnum = '00%s_' %(sub) if len(str(sub)) == 1 else '0%s_' %(sub)\n",
    "    subfiles = [x for x in alldirfiles if subnum in x[0:len(str(sub))+3]]\n",
    "    subfile = [x for x in subfiles if 'xlsx' in x]\n",
    "    #pddata = pd.read_csv(subfile[0][:], index_col = None)\n",
    "    dtmp = pd.read_excel(subfile[0][:],sheetname='trials',index_col = None,header=0)\n",
    "    dtmp['TargetRespRT'] = dtmp.ix[:,'TargetResp.rt_raw']\n",
    "    dtmp['Group'] = group_dict[sub]\n",
    "    dtmp = dtmp.rename(columns=lambda x: x.replace('.', '_'))\n",
    "    dtmp['block'] = 1\n",
    "    dtmp.loc[194:,'block'] = 2\n",
    "    #dtmp = dtmp.ix[0:240]\n",
    "    dtmp['subject'] = sub\n",
    "    d=pd.concat([d,dtmp],axis=0)\n",
    "    d['condtrialnum'] = d.block_trialnum_mean.apply(lambda x: x-48 if x>48 else x)"
   ]
  },
  {
   "cell_type": "code",
   "execution_count": 9,
   "metadata": {
    "collapsed": false
   },
   "outputs": [],
   "source": [
    "d=d[d.Condition!='break']\n",
    "d=d[pd.notnull(d.Condition)]\n",
    "d.reset_index(drop=True,inplace=True)"
   ]
  },
  {
   "cell_type": "code",
   "execution_count": 10,
   "metadata": {
    "collapsed": true
   },
   "outputs": [],
   "source": [
    "grp = d.groupby(['Group','Condition','ConditionCue_Corr_Resp','SuicideCond'])"
   ]
  },
  {
   "cell_type": "code",
   "execution_count": 11,
   "metadata": {
    "collapsed": true
   },
   "outputs": [],
   "source": [
    "#Make a dict to easily grab divided data\n",
    "ns = []\n",
    "for n,g in grp:\n",
    "    ns.append(n)\n",
    "ns_dict = dict(zip(range(len(ns)),ns))"
   ]
  },
  {
   "cell_type": "code",
   "execution_count": 13,
   "metadata": {
    "collapsed": false
   },
   "outputs": [
    {
     "data": {
      "text/plain": [
       "[(1, u'NegRef', u'NoResp', u'NonSuicide'),\n",
       " (1, u'NegRef', u'NoResp', u'Suicide'),\n",
       " (1, u'NegRef', u'Resp', u'NonSuicide'),\n",
       " (1, u'NegRef', u'Resp', u'Suicide'),\n",
       " (1, u'PosRef', u'NoResp', u'NonSuicide'),\n",
       " (1, u'PosRef', u'NoResp', u'Suicide'),\n",
       " (1, u'PosRef', u'Resp', u'NonSuicide'),\n",
       " (1, u'PosRef', u'Resp', u'Suicide'),\n",
       " (2, u'NegRef', u'NoResp', u'NonSuicide'),\n",
       " (2, u'NegRef', u'NoResp', u'Suicide'),\n",
       " (2, u'NegRef', u'Resp', u'NonSuicide'),\n",
       " (2, u'NegRef', u'Resp', u'Suicide'),\n",
       " (2, u'PosRef', u'NoResp', u'NonSuicide'),\n",
       " (2, u'PosRef', u'NoResp', u'Suicide'),\n",
       " (2, u'PosRef', u'Resp', u'NonSuicide'),\n",
       " (2, u'PosRef', u'Resp', u'Suicide')]"
      ]
     },
     "execution_count": 13,
     "metadata": {},
     "output_type": "execute_result"
    }
   ],
   "source": [
    "ns"
   ]
  },
  {
   "cell_type": "code",
   "execution_count": 17,
   "metadata": {
    "collapsed": false
   },
   "outputs": [
    {
     "data": {
      "text/plain": [
       "condtrialnum\n",
       "1    10\n",
       "Name: Correct_Choice_raw, dtype: int64"
      ]
     },
     "execution_count": 17,
     "metadata": {},
     "output_type": "execute_result"
    }
   ],
   "source": [
    "grp.get_group(ns_dict[0]).groupby(['condtrialnum']).Correct_Choice_raw.count().head(1)"
   ]
  },
  {
   "cell_type": "code",
   "execution_count": 18,
   "metadata": {
    "collapsed": false
   },
   "outputs": [
    {
     "data": {
      "image/png": "[encoded data removed]",
      "text/plain": [
       "<matplotlib.figure.Figure at 0x1098b1e50>"
      ]
     },
     "metadata": {},
     "output_type": "display_data"
    }
   ],
   "source": [
    "pd.expanding_mean(grp.get_group(ns_dict[0]).groupby(['condtrialnum']).Correct_Choice_raw.mean()).plot()\n",
    "plt.ylim([0,1])\n",
    "plt.show()"
   ]
  },
  {
   "cell_type": "code",
   "execution_count": 19,
   "metadata": {
    "collapsed": false
   },
   "outputs": [
    {
     "data": {
      "image/png": "[encoded data removed]",
      "text/plain": [
       "<matplotlib.figure.Figure at 0x10c2c0150>"
      ]
     },
     "metadata": {},
     "output_type": "display_data"
    }
   ],
   "source": [
    "pd.expanding_mean(grp.get_group(ns_dict[0]).groupby(['condtrialnum']).Correct_Choice_raw.mean()).plot()\n",
    "pd.expanding_mean(grp.get_group(ns_dict[8]).groupby(['condtrialnum']).Correct_Choice_raw.mean()).plot()\n",
    "plt.ylim([0,1])\n",
    "plt.show()"
   ]
  },
  {
   "cell_type": "code",
   "execution_count": 33,
   "metadata": {
    "collapsed": false
   },
   "outputs": [
    {
     "data": {
      "text/plain": [
       "(0.017909625422889677, 0.018132120019070833)"
      ]
     },
     "execution_count": 33,
     "metadata": {},
     "output_type": "execute_result"
    },
    {
     "data": {
      "image/png": "[encoded data removed]",
      "text/plain": [
       "<matplotlib.figure.Figure at 0x10e1eb110>"
      ]
     },
     "metadata": {},
     "output_type": "display_data"
    }
   ],
   "source": [
    "sem1 = d[(d.ConditionCue_Corr_Resp=='Resp')&(d.Condition=='NegRef')&(d.Group==1)].groupby(['SuicideCond']).Correct_Choice_raw.sem()['NonSuicide']\n",
    "sem2 = d[(d.ConditionCue_Corr_Resp=='Resp')&(d.Condition=='NegRef')&(d.Group==1)].groupby(['SuicideCond']).Correct_Choice_raw.sem()['Suicide']\n",
    "d[(d.ConditionCue_Corr_Resp=='Resp')&(d.Condition=='NegRef')&(d.Group==1)].groupby(['SuicideCond']).Correct_Choice_raw.mean().plot(kind='bar',  yerr=[sem1,sem2])\n",
    "plt.ylim([.5,.9])   \n",
    "sem1, sem2"
   ]
  },
  {
   "cell_type": "code",
   "execution_count": 34,
   "metadata": {
    "collapsed": false
   },
   "outputs": [
    {
     "data": {
      "text/plain": [
       "(0.020304705939149719, 0.019203845819795343)"
      ]
     },
     "execution_count": 34,
     "metadata": {},
     "output_type": "execute_result"
    },
    {
     "data": {
      "image/png": "[encoded data removed]",
      "text/plain": [
       "<matplotlib.figure.Figure at 0x10e1f5e90>"
      ]
     },
     "metadata": {},
     "output_type": "display_data"
    }
   ],
   "source": [
    "sem1 = d[(d.ConditionCue_Corr_Resp=='NoResp')&(d.Condition=='NegRef')&(d.Group==1)].groupby(['SuicideCond']).Correct_Choice_raw.sem()['NonSuicide']\n",
    "sem2 = d[(d.ConditionCue_Corr_Resp=='NoResp')&(d.Condition=='NegRef')&(d.Group==1)].groupby(['SuicideCond']).Correct_Choice_raw.sem()['Suicide']\n",
    "d[(d.ConditionCue_Corr_Resp=='NoResp')&(d.Condition=='NegRef')&(d.Group==1)].groupby(['SuicideCond']).Correct_Choice_raw.mean().plot(kind='bar',yerr=[sem1,sem2])\n",
    "plt.ylim([.5,.9])\n",
    "sem1, sem2"
   ]
  },
  {
   "cell_type": "code",
   "execution_count": 35,
   "metadata": {
    "collapsed": false
   },
   "outputs": [
    {
     "data": {
      "text/plain": [
       "(0.011724878733225823, 0.012354973189915894)"
      ]
     },
     "execution_count": 35,
     "metadata": {},
     "output_type": "execute_result"
    },
    {
     "data": {
      "image/png": "[encoded data removed]",
      "text/plain": [
       "<matplotlib.figure.Figure at 0x10c1eef90>"
      ]
     },
     "metadata": {},
     "output_type": "display_data"
    }
   ],
   "source": [
    "sem1 = d[(d.ConditionCue_Corr_Resp=='Resp')&(d.Condition=='NegRef')&(d.Group==2)].groupby(['SuicideCond']).Correct_Choice_raw.sem()['NonSuicide']\n",
    "sem2 = d[(d.ConditionCue_Corr_Resp=='Resp')&(d.Condition=='NegRef')&(d.Group==2)].groupby(['SuicideCond']).Correct_Choice_raw.sem()['Suicide']\n",
    "d[(d.ConditionCue_Corr_Resp=='Resp')&(d.Condition=='NegRef')&(d.Group==2)].groupby(['SuicideCond']).Correct_Choice_raw.mean().plot(kind='bar',yerr=[sem1,sem2])\n",
    "plt.ylim([.5,.9])\n",
    "sem1, sem2"
   ]
  },
  {
   "cell_type": "code",
   "execution_count": 36,
   "metadata": {
    "collapsed": false
   },
   "outputs": [
    {
     "data": {
      "text/plain": [
       "(0.01374389527387109, 0.013286019155270157)"
      ]
     },
     "execution_count": 36,
     "metadata": {},
     "output_type": "execute_result"
    },
    {
     "data": {
      "image/png": "[encoded data removed]",
      "text/plain": [
       "<matplotlib.figure.Figure at 0x10e14f290>"
      ]
     },
     "metadata": {},
     "output_type": "display_data"
    }
   ],
   "source": [
    "sem1 = d[(d.ConditionCue_Corr_Resp=='NoResp')&(d.Condition=='NegRef')&(d.Group==2)].groupby(['SuicideCond']).Correct_Choice_raw.sem()['NonSuicide']\n",
    "sem2 = d[(d.ConditionCue_Corr_Resp=='NoResp')&(d.Condition=='NegRef')&(d.Group==2)].groupby(['SuicideCond']).Correct_Choice_raw.sem()['Suicide']\n",
    "d[(d.ConditionCue_Corr_Resp=='NoResp')&(d.Condition=='NegRef')&(d.Group==2)].groupby(['SuicideCond']).Correct_Choice_raw.mean().plot(kind='bar',yerr=[sem1,sem2])\n",
    "plt.ylim([.5,.9])\n",
    "sem1, sem2"
   ]
  },
  {
   "cell_type": "code",
   "execution_count": null,
   "metadata": {
    "collapsed": true
   },
   "outputs": [],
   "source": []
  }
 ],
 "metadata": {
  "kernelspec": {
   "display_name": "Python 2",
   "language": "python",
   "name": "python2"
  },
  "language_info": {
   "codemirror_mode": {
    "name": "ipython",
    "version": 2
   },
   "file_extension": ".py",
   "mimetype": "text/x-python",
   "name": "python",
   "nbconvert_exporter": "python",
   "pygments_lexer": "ipython2",
   "version": "2.7.11"
  }
 },
 "nbformat": 4,
 "nbformat_minor": 0
}
